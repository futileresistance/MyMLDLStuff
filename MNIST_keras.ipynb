{
  "nbformat": 4,
  "nbformat_minor": 0,
  "metadata": {
    "colab": {
      "name": "MNIST_keras.ipynb",
      "version": "0.3.2",
      "provenance": [],
      "collapsed_sections": [],
      "include_colab_link": true
    },
    "language_info": {
      "codemirror_mode": {
        "name": "ipython",
        "version": 3
      },
      "file_extension": ".py",
      "mimetype": "text/x-python",
      "name": "python",
      "nbconvert_exporter": "python",
      "pygments_lexer": "ipython3",
      "version": "3.6.8"
    },
    "kernelspec": {
      "display_name": "Python (tensorflowENV)",
      "language": "python",
      "name": "tensorflowenv"
    },
    "accelerator": "GPU"
  },
  "cells": [
    {
      "cell_type": "markdown",
      "metadata": {
        "id": "view-in-github",
        "colab_type": "text"
      },
      "source": [
        "<a href=\"https://colab.research.google.com/github/futileresistance/dl/blob/master/MNIST_keras.ipynb\" target=\"_parent\"><img src=\"https://colab.research.google.com/assets/colab-badge.svg\" alt=\"Open In Colab\"/></a>"
      ]
    },
    {
      "cell_type": "code",
      "metadata": {
        "id": "v8S-OKM4X5Xp",
        "colab_type": "code",
        "colab": {}
      },
      "source": [
        "import warnings\n",
        "warnings.filterwarnings('ignore')\n",
        "import random\n",
        "import matplotlib.pyplot as plt\n",
        "import idx2numpy as Inp\n",
        "import seaborn as sns\n",
        "import numpy as np"
      ],
      "execution_count": 0,
      "outputs": []
    },
    {
      "cell_type": "code",
      "metadata": {
        "id": "FOKGw2Y2Z3q3",
        "colab_type": "code",
        "colab": {
          "base_uri": "https://localhost:8080/",
          "height": 122
        },
        "outputId": "7c1b664e-803b-49cc-be45-d4be0efa6ec2"
      },
      "source": [
        "from google.colab import drive\n",
        "drive.mount('/content/gdrive/')"
      ],
      "execution_count": 7,
      "outputs": [
        {
          "output_type": "stream",
          "text": [
            "Go to this URL in a browser: https://accounts.google.com/o/oauth2/auth?client_id=947318989803-6bn6qk8qdgf4n4g3pfee6491hc0brc4i.apps.googleusercontent.com&redirect_uri=urn%3Aietf%3Awg%3Aoauth%3A2.0%3Aoob&scope=email%20https%3A%2F%2Fwww.googleapis.com%2Fauth%2Fdocs.test%20https%3A%2F%2Fwww.googleapis.com%2Fauth%2Fdrive%20https%3A%2F%2Fwww.googleapis.com%2Fauth%2Fdrive.photos.readonly%20https%3A%2F%2Fwww.googleapis.com%2Fauth%2Fpeopleapi.readonly&response_type=code\n",
            "\n",
            "Enter your authorization code:\n",
            "··········\n",
            "Mounted at /content/gdrive/\n"
          ],
          "name": "stdout"
        }
      ]
    },
    {
      "cell_type": "code",
      "metadata": {
        "id": "IdErKjSAX5X6",
        "colab_type": "code",
        "colab": {}
      },
      "source": [
        "train_images, train_labels = Inp.convert_from_file('/content/gdrive/My Drive/train-images.idx3-ubyte'), \\\n",
        "                             Inp.convert_from_file('/content/gdrive/My Drive/train-labels.idx1-ubyte')\n",
        "    \n",
        "test_images, test_labels = Inp.convert_from_file('/content/gdrive/My Drive/t10k-images.idx3-ubyte'), \\\n",
        "                            Inp.convert_from_file('/content/gdrive/My Drive/t10k-labels.idx1-ubyte')"
      ],
      "execution_count": 0,
      "outputs": []
    },
    {
      "cell_type": "code",
      "metadata": {
        "id": "-yTpyrDYX5X-",
        "colab_type": "code",
        "colab": {
          "base_uri": "https://localhost:8080/",
          "height": 34
        },
        "outputId": "b87c9886-3ffc-436f-cf2e-aaec624b0537"
      },
      "source": [
        "'Train set: Number of images {} sized {} x {}, number of labels {}'.format(*train_images.shape, train_labels.shape[0])"
      ],
      "execution_count": 14,
      "outputs": [
        {
          "output_type": "execute_result",
          "data": {
            "text/plain": [
              "'Train set: Number of images 60000 sized 28 x 28, number of labels 60000'"
            ]
          },
          "metadata": {
            "tags": []
          },
          "execution_count": 14
        }
      ]
    },
    {
      "cell_type": "code",
      "metadata": {
        "id": "FWk7rKQ-X5YF",
        "colab_type": "code",
        "colab": {
          "base_uri": "https://localhost:8080/",
          "height": 34
        },
        "outputId": "1778c163-3cc7-464a-f145-11322c67479c"
      },
      "source": [
        "'Test set: Number of images {} sized {} x {}, number of labels {}'.format(*test_images.shape, test_labels.shape[0])"
      ],
      "execution_count": 15,
      "outputs": [
        {
          "output_type": "execute_result",
          "data": {
            "text/plain": [
              "'Test set: Number of images 10000 sized 28 x 28, number of labels 10000'"
            ]
          },
          "metadata": {
            "tags": []
          },
          "execution_count": 15
        }
      ]
    },
    {
      "cell_type": "code",
      "metadata": {
        "scrolled": true,
        "id": "Brk6MrIrX5YM",
        "colab_type": "code",
        "colab": {
          "base_uri": "https://localhost:8080/",
          "height": 286
        },
        "outputId": "454e2cc0-6d0a-4924-908e-a95f7e4aa15d"
      },
      "source": [
        "sns.countplot(train_labels)"
      ],
      "execution_count": 16,
      "outputs": [
        {
          "output_type": "execute_result",
          "data": {
            "text/plain": [
              "<matplotlib.axes._subplots.AxesSubplot at 0x7f709fc09400>"
            ]
          },
          "metadata": {
            "tags": []
          },
          "execution_count": 16
        },
        {
          "output_type": "display_data",
          "data": {
            "image/png": "[encoded data removed]",
            "text/plain": [
              "<Figure size 432x288 with 1 Axes>"
            ]
          },
          "metadata": {
            "tags": []
          }
        }
      ]
    },
    {
      "cell_type": "code",
      "metadata": {
        "scrolled": true,
        "id": "VLEaKj61X5YP",
        "colab_type": "code",
        "colab": {
          "base_uri": "https://localhost:8080/",
          "height": 534
        },
        "outputId": "241c6500-c79b-4624-d055-74605ad0d476"
      },
      "source": [
        "%matplotlib inline\n",
        "# preview the images first\n",
        "plt.figure(figsize=(12,10))\n",
        "x, y = 10, 4\n",
        "for i in range(40):  \n",
        "    plt.subplot(y, x, i+1)\n",
        "    plt.imshow(train_images[i,:,:].reshape((28,28)),interpolation='nearest', cmap='gray')\n",
        "plt.show()"
      ],
      "execution_count": 17,
      "outputs": [
        {
          "output_type": "display_data",
          "data": {
            "image/png": "[encoded data removed]",
            "text/plain": [
              "<Figure size 864x720 with 40 Axes>"
            ]
          },
          "metadata": {
            "tags": []
          }
        }
      ]
    },
    {
      "cell_type": "code",
      "metadata": {
        "id": "R9IWXyoDX5Yx",
        "colab_type": "code",
        "colab": {}
      },
      "source": [
        "# Normalizing images\n",
        "X_train = train_images.reshape(train_images.shape[0], 28, 28, 1)\n",
        "X_train = X_train.astype('float32')\n",
        "X_train/=255\n",
        "X_test = test_images.reshape(test_images.shape[0],28,28,1)\n",
        "X_test = X_test.astype('float32')\n",
        "X_test/=255"
      ],
      "execution_count": 0,
      "outputs": []
    },
    {
      "cell_type": "code",
      "metadata": {
        "id": "VHQj88zpX5Y0",
        "colab_type": "code",
        "colab": {
          "base_uri": "https://localhost:8080/",
          "height": 34
        },
        "outputId": "4f681efd-0bdc-4b79-aa74-3889c0a2d9cf"
      },
      "source": [
        "from tensorflow.keras.utils import to_categorical\n",
        "y_train = to_categorical(train_labels)\n",
        "y_test = to_categorical(test_labels)\n",
        "print(y_train[0])"
      ],
      "execution_count": 20,
      "outputs": [
        {
          "output_type": "stream",
          "text": [
            "[0. 0. 0. 0. 0. 1. 0. 0. 0. 0.]\n"
          ],
          "name": "stdout"
        }
      ]
    },
    {
      "cell_type": "code",
      "metadata": {
        "id": "XvjULQ1pX5Y3",
        "colab_type": "code",
        "colab": {}
      },
      "source": [
        "from tensorflow.keras.preprocessing.image import ImageDataGenerator "
      ],
      "execution_count": 0,
      "outputs": []
    },
    {
      "cell_type": "code",
      "metadata": {
        "id": "C23-mwrOX5Y6",
        "colab_type": "code",
        "colab": {}
      },
      "source": [
        "datagen = ImageDataGenerator(zoom_range=0.2, # randomly zoom into images\n",
        "                             rotation_range=10,  # randomly rotate images in the range (degrees, 0 to 180)\n",
        "                             width_shift_range=0.1,  # randomly shift images horizontally (fraction of total width)\n",
        "                             height_shift_range=0.1,  # randomly shift images vertically (fraction of total height)\n",
        "                             horizontal_flip=True,  # randomly flip images\n",
        "                             vertical_flip=True)  # randomly flip images"
      ],
      "execution_count": 0,
      "outputs": []
    },
    {
      "cell_type": "code",
      "metadata": {
        "id": "1CoBxhvAfoa1",
        "colab_type": "code",
        "colab": {
          "base_uri": "https://localhost:8080/",
          "height": 286
        },
        "outputId": "d08f72ad-8751-47ac-e9b0-ed3874f662f5"
      },
      "source": [
        "test_image = train_images[5,:,:]\n",
        "plt.imshow(test_image)"
      ],
      "execution_count": 53,
      "outputs": [
        {
          "output_type": "execute_result",
          "data": {
            "text/plain": [
              "<matplotlib.image.AxesImage at 0x7f7040c53c88>"
            ]
          },
          "metadata": {
            "tags": []
          },
          "execution_count": 53
        },
        {
          "output_type": "display_data",
          "data": {
            "image/png": "[encoded data removed]",
            "text/plain": [
              "<Figure size 432x288 with 1 Axes>"
            ]
          },
          "metadata": {
            "tags": []
          }
        }
      ]
    },
    {
      "cell_type": "code",
      "metadata": {
        "id": "JrCU-rkfjxX6",
        "colab_type": "code",
        "colab": {}
      },
      "source": [
        "def show_augmented(image, augmentation):\n",
        "    aug = augmentation\n",
        "    aug.fit(image.reshape(1,28,28,1))\n",
        "    augmented = next(aug.flow(image.reshape(1,28,28,1), batch_size=1))\n",
        "    plt.figure()\n",
        "    plt.imshow(augmented.reshape(28,28))"
      ],
      "execution_count": 0,
      "outputs": []
    },
    {
      "cell_type": "code",
      "metadata": {
        "id": "4JsM1JT9kHRt",
        "colab_type": "code",
        "colab": {
          "base_uri": "https://localhost:8080/",
          "height": 269
        },
        "outputId": "c4566b1d-eb34-44f5-abb1-a32b781f9046"
      },
      "source": [
        "show_augmented(test_image,ImageDataGenerator(horizontal_flip=True) )"
      ],
      "execution_count": 74,
      "outputs": [
        {
          "output_type": "display_data",
          "data": {
            "image/png": "[encoded data removed]",
            "text/plain": [
              "<Figure size 432x288 with 1 Axes>"
            ]
          },
          "metadata": {
            "tags": []
          }
        }
      ]
    },
    {
      "cell_type": "code",
      "metadata": {
        "id": "exJ4r7PykLVH",
        "colab_type": "code",
        "colab": {
          "base_uri": "https://localhost:8080/",
          "height": 269
        },
        "outputId": "f9a9fe9c-b3b9-4b1a-dd2c-2c8c5c7cd081"
      },
      "source": [
        "show_augmented(test_image,ImageDataGenerator(zoom_range=0.4))"
      ],
      "execution_count": 85,
      "outputs": [
        {
          "output_type": "display_data",
          "data": {
            "image/png": "[encoded data removed]",
            "text/plain": [
              "<Figure size 432x288 with 1 Axes>"
            ]
          },
          "metadata": {
            "tags": []
          }
        }
      ]
    },
    {
      "cell_type": "code",
      "metadata": {
        "id": "2RX7MLIskLY5",
        "colab_type": "code",
        "colab": {
          "base_uri": "https://localhost:8080/",
          "height": 269
        },
        "outputId": "a445434c-ab35-4610-c21b-991ef2db9277"
      },
      "source": [
        "show_augmented(test_image,ImageDataGenerator(vertical_flip=True))"
      ],
      "execution_count": 86,
      "outputs": [
        {
          "output_type": "display_data",
          "data": {
            "image/png": "[encoded data removed]",
            "text/plain": [
              "<Figure size 432x288 with 1 Axes>"
            ]
          },
          "metadata": {
            "tags": []
          }
        }
      ]
    },
    {
      "cell_type": "code",
      "metadata": {
        "id": "7DarKLrvfZlH",
        "colab_type": "code",
        "colab": {
          "base_uri": "https://localhost:8080/",
          "height": 269
        },
        "outputId": "1d4c0c34-6100-4196-a850-dcde9ab7c90c"
      },
      "source": [
        "show_augmented(test_image,ImageDataGenerator(rotation_range=40))"
      ],
      "execution_count": 87,
      "outputs": [
        {
          "output_type": "display_data",
          "data": {
            "image/png": "[encoded data removed]",
            "text/plain": [
              "<Figure size 432x288 with 1 Axes>"
            ]
          },
          "metadata": {
            "tags": []
          }
        }
      ]
    },
    {
      "cell_type": "code",
      "metadata": {
        "id": "6EsMP_2RX5ZH",
        "colab_type": "code",
        "colab": {}
      },
      "source": [
        "from sklearn.model_selection import train_test_split\n",
        "X_train, X_val, y_train, y_val = train_test_split(X_train, y_train, test_size = 0.20, random_state = 42)"
      ],
      "execution_count": 0,
      "outputs": []
    },
    {
      "cell_type": "code",
      "metadata": {
        "id": "YrzQf2-BX5ZK",
        "colab_type": "code",
        "colab": {}
      },
      "source": [
        "X_train2 = np.array(X_train, copy=True) \n",
        "y_train2 = np.array(y_train, copy=True) \n",
        "\n",
        "datagen.fit(X_train)\n",
        "\n",
        "# Concatenating the old images with the augmented images\n",
        "augmented_x  = np.concatenate((X_train, X_train2), axis=0)\n",
        "augmented_y  = np.concatenate((y_train, y_train2), axis=0)"
      ],
      "execution_count": 0,
      "outputs": []
    },
    {
      "cell_type": "code",
      "metadata": {
        "id": "Q6L1-rVZX5ZO",
        "colab_type": "code",
        "colab": {
          "base_uri": "https://localhost:8080/",
          "height": 34
        },
        "outputId": "677325e1-2d44-4329-deaf-9b824967e7fc"
      },
      "source": [
        "X_train.shape, augmented_x.shape"
      ],
      "execution_count": 26,
      "outputs": [
        {
          "output_type": "execute_result",
          "data": {
            "text/plain": [
              "((48000, 28, 28, 1), (96000, 28, 28, 1))"
            ]
          },
          "metadata": {
            "tags": []
          },
          "execution_count": 26
        }
      ]
    },
    {
      "cell_type": "code",
      "metadata": {
        "id": "Ct45BzISX5ZQ",
        "colab_type": "code",
        "colab": {}
      },
      "source": [
        "from tensorflow.keras.models import Sequential\n",
        "from tensorflow.keras.layers import Conv2D, MaxPooling2D\n",
        "from tensorflow.keras.layers import Dense, Flatten, Dropout\n",
        "from tensorflow.keras.optimizers import Adam"
      ],
      "execution_count": 0,
      "outputs": []
    },
    {
      "cell_type": "code",
      "metadata": {
        "id": "3Ku-sxTIX5ZT",
        "colab_type": "code",
        "colab": {
          "base_uri": "https://localhost:8080/",
          "height": 139
        },
        "outputId": "b5686bff-980d-414e-8ea2-ea70c4bb8689"
      },
      "source": [
        "cnn_model = Sequential()\n",
        "\n",
        "cnn_model.add(Conv2D(32, kernel_size = (3,3), activation = 'relu', input_shape = (28, 28, 1)))\n",
        "cnn_model.add(MaxPooling2D(pool_size = (2,2)))\n",
        "cnn_model.add(Dropout(0.20))\n",
        "\n",
        "cnn_model.add(Conv2D(64, kernel_size = (3,3), activation = 'relu'))\n",
        "cnn_model.add(MaxPooling2D(pool_size = (2,2)))\n",
        "cnn_model.add(Dropout(0.20))\n",
        "\n",
        "cnn_model.add(Conv2D(128, kernel_size = (3,3), activation = 'relu'))\n",
        "cnn_model.add(MaxPooling2D(pool_size = (2,2)))\n",
        "cnn_model.add(Dropout(0.20))\n",
        "\n",
        "cnn_model.add(Flatten())\n",
        "\n",
        "cnn_model.add(Dense(256, activation = 'relu'))\n",
        "cnn_model.add(Dropout(0.20))\n",
        "cnn_model.add(Dense(10, activation = 'softmax'))"
      ],
      "execution_count": 28,
      "outputs": [
        {
          "output_type": "stream",
          "text": [
            "WARNING:tensorflow:From /usr/local/lib/python3.6/dist-packages/tensorflow/python/ops/resource_variable_ops.py:435: colocate_with (from tensorflow.python.framework.ops) is deprecated and will be removed in a future version.\n",
            "Instructions for updating:\n",
            "Colocations handled automatically by placer.\n",
            "WARNING:tensorflow:From /usr/local/lib/python3.6/dist-packages/tensorflow/python/keras/layers/core.py:143: calling dropout (from tensorflow.python.ops.nn_ops) with keep_prob is deprecated and will be removed in a future version.\n",
            "Instructions for updating:\n",
            "Please use `rate` instead of `keep_prob`. Rate should be set to `rate = 1 - keep_prob`.\n"
          ],
          "name": "stdout"
        }
      ]
    },
    {
      "cell_type": "code",
      "metadata": {
        "id": "moTw4_G3X5ZV",
        "colab_type": "code",
        "colab": {
          "base_uri": "https://localhost:8080/",
          "height": 578
        },
        "outputId": "ecfe5d8b-b598-4ed5-dce3-72e6188ab8bf"
      },
      "source": [
        "cnn_model.summary()"
      ],
      "execution_count": 29,
      "outputs": [
        {
          "output_type": "stream",
          "text": [
            "_________________________________________________________________\n",
            "Layer (type)                 Output Shape              Param #   \n",
            "=================================================================\n",
            "conv2d (Conv2D)              (None, 26, 26, 32)        320       \n",
            "_________________________________________________________________\n",
            "max_pooling2d (MaxPooling2D) (None, 13, 13, 32)        0         \n",
            "_________________________________________________________________\n",
            "dropout (Dropout)            (None, 13, 13, 32)        0         \n",
            "_________________________________________________________________\n",
            "conv2d_1 (Conv2D)            (None, 11, 11, 64)        18496     \n",
            "_________________________________________________________________\n",
            "max_pooling2d_1 (MaxPooling2 (None, 5, 5, 64)          0         \n",
            "_________________________________________________________________\n",
            "dropout_1 (Dropout)          (None, 5, 5, 64)          0         \n",
            "_________________________________________________________________\n",
            "conv2d_2 (Conv2D)            (None, 3, 3, 128)         73856     \n",
            "_________________________________________________________________\n",
            "max_pooling2d_2 (MaxPooling2 (None, 1, 1, 128)         0         \n",
            "_________________________________________________________________\n",
            "dropout_2 (Dropout)          (None, 1, 1, 128)         0         \n",
            "_________________________________________________________________\n",
            "flatten (Flatten)            (None, 128)               0         \n",
            "_________________________________________________________________\n",
            "dense (Dense)                (None, 256)               33024     \n",
            "_________________________________________________________________\n",
            "dropout_3 (Dropout)          (None, 256)               0         \n",
            "_________________________________________________________________\n",
            "dense_1 (Dense)              (None, 10)                2570      \n",
            "=================================================================\n",
            "Total params: 128,266\n",
            "Trainable params: 128,266\n",
            "Non-trainable params: 0\n",
            "_________________________________________________________________\n"
          ],
          "name": "stdout"
        }
      ]
    },
    {
      "cell_type": "code",
      "metadata": {
        "scrolled": true,
        "id": "vHZij7kQX5Zb",
        "colab_type": "code",
        "colab": {}
      },
      "source": [
        "opt = Adam(lr=0.001, beta_1=0.9, beta_2=0.999, epsilon=None, decay=0.0, amsgrad=False)"
      ],
      "execution_count": 0,
      "outputs": []
    },
    {
      "cell_type": "code",
      "metadata": {
        "id": "FpZAUNBAX5Ze",
        "colab_type": "code",
        "colab": {}
      },
      "source": [
        "cnn_model.compile(loss = 'categorical_crossentropy', optimizer = opt, metrics = ['accuracy'])"
      ],
      "execution_count": 0,
      "outputs": []
    },
    {
      "cell_type": "code",
      "metadata": {
        "id": "srm2uTfaX5Zg",
        "colab_type": "code",
        "colab": {
          "base_uri": "https://localhost:8080/",
          "height": 785
        },
        "outputId": "f84917c3-1915-47b4-f995-47fc682099f6"
      },
      "source": [
        "history = cnn_model.fit(augmented_x, augmented_y, \n",
        "                    epochs = 20, batch_size = 32, \n",
        "                    validation_data = (X_val, y_val))"
      ],
      "execution_count": 33,
      "outputs": [
        {
          "output_type": "stream",
          "text": [
            "Train on 96000 samples, validate on 12000 samples\n",
            "WARNING:tensorflow:From /usr/local/lib/python3.6/dist-packages/tensorflow/python/ops/math_ops.py:3066: to_int32 (from tensorflow.python.ops.math_ops) is deprecated and will be removed in a future version.\n",
            "Instructions for updating:\n",
            "Use tf.cast instead.\n",
            "Epoch 1/20\n",
            "96000/96000 [==============================] - 20s 206us/sample - loss: 0.2148 - acc: 0.9324 - val_loss: 0.0614 - val_acc: 0.9822\n",
            "Epoch 2/20\n",
            "96000/96000 [==============================] - 15s 161us/sample - loss: 0.0807 - acc: 0.9757 - val_loss: 0.0528 - val_acc: 0.9851\n",
            "Epoch 3/20\n",
            "96000/96000 [==============================] - 16s 169us/sample - loss: 0.0615 - acc: 0.9816 - val_loss: 0.0448 - val_acc: 0.9867\n",
            "Epoch 4/20\n",
            "96000/96000 [==============================] - 15s 158us/sample - loss: 0.0516 - acc: 0.9844 - val_loss: 0.0526 - val_acc: 0.9850\n",
            "Epoch 5/20\n",
            "96000/96000 [==============================] - 15s 158us/sample - loss: 0.0443 - acc: 0.9858 - val_loss: 0.0419 - val_acc: 0.9888\n",
            "Epoch 6/20\n",
            "96000/96000 [==============================] - 15s 159us/sample - loss: 0.0404 - acc: 0.9875 - val_loss: 0.0468 - val_acc: 0.9879\n",
            "Epoch 7/20\n",
            "96000/96000 [==============================] - 15s 158us/sample - loss: 0.0387 - acc: 0.9877 - val_loss: 0.0420 - val_acc: 0.9876\n",
            "Epoch 8/20\n",
            "96000/96000 [==============================] - 17s 172us/sample - loss: 0.0352 - acc: 0.9889 - val_loss: 0.0439 - val_acc: 0.9894\n",
            "Epoch 9/20\n",
            "96000/96000 [==============================] - 15s 158us/sample - loss: 0.0340 - acc: 0.9895 - val_loss: 0.0433 - val_acc: 0.9892\n",
            "Epoch 10/20\n",
            "96000/96000 [==============================] - 15s 158us/sample - loss: 0.0327 - acc: 0.9901 - val_loss: 0.0427 - val_acc: 0.9896\n",
            "Epoch 11/20\n",
            "96000/96000 [==============================] - 15s 158us/sample - loss: 0.0305 - acc: 0.9907 - val_loss: 0.0409 - val_acc: 0.9893\n",
            "Epoch 12/20\n",
            "96000/96000 [==============================] - 17s 175us/sample - loss: 0.0293 - acc: 0.9907 - val_loss: 0.0449 - val_acc: 0.9876\n",
            "Epoch 13/20\n",
            "96000/96000 [==============================] - 16s 170us/sample - loss: 0.0284 - acc: 0.9908 - val_loss: 0.0431 - val_acc: 0.9888\n",
            "Epoch 14/20\n",
            "96000/96000 [==============================] - 16s 167us/sample - loss: 0.0280 - acc: 0.9912 - val_loss: 0.0429 - val_acc: 0.9900\n",
            "Epoch 15/20\n",
            "96000/96000 [==============================] - 15s 161us/sample - loss: 0.0272 - acc: 0.9914 - val_loss: 0.0445 - val_acc: 0.9901\n",
            "Epoch 16/20\n",
            "96000/96000 [==============================] - 15s 161us/sample - loss: 0.0260 - acc: 0.9917 - val_loss: 0.0455 - val_acc: 0.9893\n",
            "Epoch 17/20\n",
            "96000/96000 [==============================] - 15s 160us/sample - loss: 0.0262 - acc: 0.9919 - val_loss: 0.0471 - val_acc: 0.9895\n",
            "Epoch 18/20\n",
            "96000/96000 [==============================] - 17s 175us/sample - loss: 0.0279 - acc: 0.9920 - val_loss: 0.0420 - val_acc: 0.9893\n",
            "Epoch 19/20\n",
            "96000/96000 [==============================] - 15s 160us/sample - loss: 0.0250 - acc: 0.9926 - val_loss: 0.0510 - val_acc: 0.9889\n",
            "Epoch 20/20\n",
            "96000/96000 [==============================] - 16s 169us/sample - loss: 0.0245 - acc: 0.9927 - val_loss: 0.0460 - val_acc: 0.9901\n"
          ],
          "name": "stdout"
        }
      ]
    },
    {
      "cell_type": "code",
      "metadata": {
        "id": "wuHz_CYlX5Zj",
        "colab_type": "code",
        "colab": {}
      },
      "source": [
        "model_history = history.history"
      ],
      "execution_count": 0,
      "outputs": []
    },
    {
      "cell_type": "code",
      "metadata": {
        "id": "RooIQxy3X5Zm",
        "colab_type": "code",
        "colab": {
          "base_uri": "https://localhost:8080/",
          "height": 633
        },
        "outputId": "e49fde91-dbd1-47a1-bb83-4306de1c0028"
      },
      "source": [
        "validation_accuracy = model_history['val_acc']\n",
        "model_loss = model_history['loss']\n",
        "validation_loss = model_history['val_loss']\n",
        "model_accuracy = model_history['acc']\n",
        "epochs = range(len(model_accuracy))\n",
        "\n",
        "\n",
        "plt.figure(figsize = (14,10))\n",
        "plt.subplot(211)\n",
        "plt.plot(epochs, validation_accuracy, 'r', label = 'Validation Accuracy')\n",
        "plt.plot(epochs, model_accuracy, 'b', label = 'Training Accuracy')\n",
        "plt.xlabel('Epochs')\n",
        "plt.ylabel('Accuracy')\n",
        "plt.title('Validation Accuracy vs Training Accuracy')\n",
        "plt.legend()\n",
        "\n",
        "\n",
        "plt.figure(figsize = (14,10))\n",
        "plt.subplot(212)\n",
        "plt.plot(epochs, validation_loss, 'r', label = 'Validation Loss')\n",
        "plt.plot(epochs, model_loss, 'b', label = 'Training Loss')\n",
        "plt.xlabel('Epochs')\n",
        "plt.ylabel('Loss')\n",
        "plt.title('Validation Loss vs Training Loss')\n",
        "plt.legend()\n",
        "\n",
        "plt.show()"
      ],
      "execution_count": 35,
      "outputs": [
        {
          "output_type": "display_data",
          "data": {
            "image/png": "[encoded data removed]",
            "text/plain": [
              "<Figure size 1008x720 with 1 Axes>"
            ]
          },
          "metadata": {
            "tags": []
          }
        },
        {
          "output_type": "display_data",
          "data": {
            "image/png": "[encoded data removed]",
            "text/plain": [
              "<Figure size 1008x720 with 1 Axes>"
            ]
          },
          "metadata": {
            "tags": []
          }
        }
      ]
    },
    {
      "cell_type": "code",
      "metadata": {
        "id": "FuSr7QOXX5Zp",
        "colab_type": "code",
        "colab": {
          "base_uri": "https://localhost:8080/",
          "height": 68
        },
        "outputId": "354178ad-0d08-495f-ffe3-a9dbea262052"
      },
      "source": [
        "test_eval = cnn_model.evaluate(X_test, y_test, verbose=1)\n",
        "print('Test loss:', test_eval[0])\n",
        "print('Test accuracy:', test_eval[1])"
      ],
      "execution_count": 36,
      "outputs": [
        {
          "output_type": "stream",
          "text": [
            "10000/10000 [==============================] - 1s 60us/sample - loss: 0.0450 - acc: 0.9895\n",
            "Test loss: 0.04496037116794223\n",
            "Test accuracy: 0.9895\n"
          ],
          "name": "stdout"
        }
      ]
    },
    {
      "cell_type": "code",
      "metadata": {
        "id": "iRgBhF4cdjk9",
        "colab_type": "code",
        "colab": {
          "base_uri": "https://localhost:8080/",
          "height": 809
        },
        "outputId": "3c38280b-70db-4a9d-c14f-163b6a5d6b1f"
      },
      "source": [
        "for i in range(3):\n",
        "    random_sample = random.randint(1,len(y_test))\n",
        "    test_img = X_test[random_sample].reshape(1,28,28,1)\n",
        "    test_label = cnn_model.predict(test_img)\n",
        "    title = 'Label of image: {}'.format(np.argmax(test_label))\n",
        "    plt.figure()\n",
        "    plt.imshow(X_test[random_sample].reshape(28,28), cmap='gray')\n",
        "    plt.title(title)"
      ],
      "execution_count": 50,
      "outputs": [
        {
          "output_type": "display_data",
          "data": {
            "image/png": "[encoded data removed]",
            "text/plain": [
              "<Figure size 432x288 with 1 Axes>"
            ]
          },
          "metadata": {
            "tags": []
          }
        },
        {
          "output_type": "display_data",
          "data": {
            "image/png": "[encoded data removed]",
            "text/plain": [
              "<Figure size 432x288 with 1 Axes>"
            ]
          },
          "metadata": {
            "tags": []
          }
        },
        {
          "output_type": "display_data",
          "data": {
            "image/png": "[encoded data removed]",
            "text/plain": [
              "<Figure size 432x288 with 1 Axes>"
            ]
          },
          "metadata": {
            "tags": []
          }
        }
      ]
    },
    {
      "cell_type": "code",
      "metadata": {
        "id": "wkTIWWvseuT2",
        "colab_type": "code",
        "colab": {}
      },
      "source": [
        ""
      ],
      "execution_count": 0,
      "outputs": []
    }
  ]
}