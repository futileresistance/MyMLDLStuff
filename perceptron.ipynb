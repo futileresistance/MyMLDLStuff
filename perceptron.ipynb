{
 "cells": [
  {
   "cell_type": "code",
   "execution_count": 1,
   "metadata": {},
   "outputs": [],
   "source": [
    "import numpy as np\n",
    "from sklearn.datasets import load_iris\n",
    "\n",
    "X, y = load_iris(return_X_y=True)\n",
    "X, y = X[:100], y[:100]\n",
    "num_features = X.shape[1]\n",
    "y = np.array([1 if y_i == 1 else -1 for y_i in y])"
   ]
  },
  {
   "cell_type": "code",
   "execution_count": 87,
   "metadata": {},
   "outputs": [],
   "source": [
    "import random\n",
    "\n",
    "class Perceptron:\n",
    "    random.seed(42)\n",
    "    def __init__(self, learning_rate, tmax):\n",
    "        self.learning_rate = learning_rate\n",
    "        self.tmax = tmax\n",
    "        \n",
    "    def fit(self, X, y): \n",
    "        self.X = X\n",
    "        self.y = y\n",
    "        weights = [0 for i in range(len(X[0]))]        \n",
    "        bias = 0\n",
    "        for i in range(self.tmax):\n",
    "            random_index = random.randint(0,len(self.X)-1)\n",
    "            x_random = self.X[random_index]\n",
    "            y_random = self.y[random_index]\n",
    "            if y_random*x_random.dot(weights)+bias <= 0:\n",
    "                bias += learning_rate*y_random\n",
    "                weights += learning_rate*y_random*x_random\n",
    "        return weights\n",
    "    \n",
    "    def predict(self, x_test):\n",
    "        self.x_test = x_test\n",
    "        predictions = []    \n",
    "        for i in range(len(x_test)):\n",
    "            if weights.dot(x_test[i]) >= 0:\n",
    "                predictions.append(1)\n",
    "            else:\n",
    "                predictions.append(-1)\n",
    "        return predictions"
   ]
  },
  {
   "cell_type": "code",
   "execution_count": 91,
   "metadata": {},
   "outputs": [],
   "source": [
    "from sklearn.metrics import accuracy_score\n",
    "from sklearn.model_selection import train_test_split\n",
    "\n",
    "X_train, x_test, y_train, y_test = train_test_split(X, y, test_size = 0.25, random_state = 10)\n",
    "simple_NN = Perceptron(0.1, 40)\n",
    "\n",
    "weights = simple_NN.fit(X_train, y_train)\n",
    "predicts = simple_NN.predict(x_test)\n",
    "score = accuracy_score(y_test, predicts)"
   ]
  },
  {
   "cell_type": "code",
   "execution_count": 92,
   "metadata": {},
   "outputs": [
    {
     "name": "stdout",
     "output_type": "stream",
     "text": [
      "score 1.00\n"
     ]
    }
   ],
   "source": [
    "print(\"score {0:.2f}\".format(score))"
   ]
  }
 ],
 "metadata": {
  "kernelspec": {
   "display_name": "Python 3",
   "language": "python",
   "name": "python3"
  },
  "language_info": {
   "codemirror_mode": {
    "name": "ipython",
    "version": 3
   },
   "file_extension": ".py",
   "mimetype": "text/x-python",
   "name": "python",
   "nbconvert_exporter": "python",
   "pygments_lexer": "ipython3",
   "version": "3.7.1"
  }
 },
 "nbformat": 4,
 "nbformat_minor": 2
}
