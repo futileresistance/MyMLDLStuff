{
 "cells": [
  {
   "cell_type": "code",
   "execution_count": 11,
   "metadata": {},
   "outputs": [],
   "source": [
    "def dijkstras_algorithm(nodes_and_edges):\n",
    "\n",
    "    '''\n",
    "    python implementaion of dijkstra's algorithm,\n",
    "    which calculates the shortest path from one node\n",
    "    to another node of directed weighted graph\n",
    "\n",
    "    input object is a list, containing number of nodes,\n",
    "    number of edges, lists of connected nodes with\n",
    "    weights; last item of the list contains nodes for \n",
    "    which the shortest path is calculated\n",
    "\n",
    "    for example:\n",
    "    input_arr = [[2, 3], [1, 2, 5], [2, 3, 0], [3, 1, 3], [1, 3]]\n",
    "    graph has 2 nodes and 3 edges\n",
    "    1 to 2 with weight 5, 2 to 3 with 0 and 3 to 1 with 3\n",
    "    function finds the shortest path between 1 and 3\n",
    "    \n",
    "    '''\n",
    "\n",
    "    dict_, newdict_ = dict(), dict()\n",
    "\n",
    "    for elem in nodes_and_edges[1:len(nodes_and_edges) - 1]:\n",
    "        if elem[0] not in dict_.keys():\n",
    "            newdict_[elem[0]] = [100]\n",
    "            dict_[elem[0]] = [elem[1:3]]\n",
    "        else:\n",
    "            dict_[elem[0]].append(elem[1:3])\n",
    "\n",
    "    num_nodes = nodes_and_edges[0][0]\n",
    "    start_node = nodes_and_edges[len(nodes_and_edges) - 1][0]\n",
    "    finish_node = nodes_and_edges[len(nodes_and_edges) - 1][1]\n",
    "\n",
    "    # start_node setup\n",
    "    for key in newdict_.keys():\n",
    "        if key == start_node:\n",
    "            newdict_[key] = [0]\n",
    "    # algorithm\n",
    "    while len(dict_) > 0:\n",
    "        k = min(dict_, key=newdict_.get)\n",
    "        for item in dict_[k]:\n",
    "            newdict_[item[0]][0] = min(int(newdict_[item[0]][0]),\n",
    "                                       (int(newdict_[k][0]) + int(item[1])))\n",
    "        del dict_[k]\n",
    "\n",
    "    if int(newdict_[finish_node][0]) == 100:\n",
    "        return -1\n",
    "    else:\n",
    "        return newdict_[finish_node][0]\n",
    "\n",
    "\n",
    "#arr = [[2, 3], [1, 2, 5], [2, 3, 0], [3, 1, 3], [1, 3]]\n",
    "#print(dijkstras_algorithm(arr))"
   ]
  },
  {
   "cell_type": "code",
   "execution_count": null,
   "metadata": {},
   "outputs": [],
   "source": []
  }
 ],
 "metadata": {
  "kernelspec": {
   "display_name": "Python 3",
   "language": "python",
   "name": "python3"
  },
  "language_info": {
   "codemirror_mode": {
    "name": "ipython",
    "version": 3
   },
   "file_extension": ".py",
   "mimetype": "text/x-python",
   "name": "python",
   "nbconvert_exporter": "python",
   "pygments_lexer": "ipython3",
   "version": "3.7.1"
  }
 },
 "nbformat": 4,
 "nbformat_minor": 2
}
