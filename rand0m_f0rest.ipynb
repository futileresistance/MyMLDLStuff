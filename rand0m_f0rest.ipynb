{
 "cells": [
  {
   "cell_type": "code",
   "execution_count": 1,
   "metadata": {},
   "outputs": [],
   "source": [
    "from sklearn.datasets import load_wine\n",
    "\n",
    "X, y = load_wine(return_X_y=True)"
   ]
  },
  {
   "cell_type": "code",
   "execution_count": null,
   "metadata": {},
   "outputs": [],
   "source": [
    "from sklearn.ensemble import RandomForestClassifier\n",
    "from sklearn.model_selection import cross_val_score, StratifiedKFold\n",
    "import pandas as pd\n",
    "estims = [1, 5, 10, 20]\n",
    "scores = []\n",
    "for i in estims:\n",
    "    scores.append(cross_val_score(RandomForestClassifier(n_estimators=i, random_state=42),\\\n",
    "                                  X,y, cv=StratifiedKFold(4), scoring='accuracy').mean())\n",
    "answer1 = '{0:0.3f}'.format(max(scores))"
   ]
  },
  {
   "cell_type": "code",
   "execution_count": null,
   "metadata": {},
   "outputs": [],
   "source": [
    "from sklearn.ensemble import GradientBoostingClassifier\n",
    "from sklearn.linear_model import LogisticRegression\n",
    "GBC = GradientBoostingClassifier(random_state=42)\n",
    "LogReg = LogisticRegression(random_state=42)\n",
    "GBC_score = cross_val_score(GBC, X,y, cv=StratifiedKFold(4), scoring='accuracy').mean()\n",
    "LR_score = cross_val_score(LogReg, X,y, cv=StratifiedKFold(4), scoring='accuracy').mean()\n",
    "answer2 = '{0:0.3f}'.format(max(GBC_score, LR_score))"
   ]
  },
  {
   "cell_type": "code",
   "execution_count": null,
   "metadata": {},
   "outputs": [],
   "source": [
    "import numpy as np\n",
    "from sklearn.ensemble import RandomForestRegressor, GradientBoostingRegressor\n",
    "from sklearn.linear_model import Ridge, Lasso\n",
    "from sklearn.datasets import load_boston\n",
    "from sklearn.model_selection import train_test_split\n",
    "from sklearn.metrics import mean_squared_error\n",
    "\n",
    "boston = load_boston()\n",
    "x_train, x_test, y_train, y_test = train_test_split(boston.data, boston.target, random_state=54, test_size=0.33)\n",
    "RFR = RandomForestRegressor(random_state=42)\n",
    "GBR = GradientBoostingRegressor(random_state=42)\n",
    "rid = Ridge(random_state=42)\n",
    "las = Lasso(random_state=42)\n",
    "scores = []\n",
    "for alg in [RFR, GBR, rid, las]:\n",
    "    alg.fit(x_train, y_train)\n",
    "    scores.append(mean_squared_error(y_test, alg.predict(x_test)))\n",
    "answer3 = '{0:0.2f}'.format(min(scores))"
   ]
  },
  {
   "cell_type": "code",
   "execution_count": 16,
   "metadata": {},
   "outputs": [
    {
     "name": "stdout",
     "output_type": "stream",
     "text": [
      "Best score (random forest) 0.978\n",
      "Best score (other algorithms) 0.961\n",
      "Best score (regression) 8.49\n"
     ]
    }
   ],
   "source": [
    "output = \"\"\"Best score (random forest) {0:}\n",
    "Best score (other algorithms) {1:}\n",
    "Best score (regression) {2:}\"\"\"\n",
    "print(output.format(answer1, answer2, answer3))"
   ]
  }
 ],
 "metadata": {
  "kernelspec": {
   "display_name": "Python 3",
   "language": "python",
   "name": "python3"
  },
  "language_info": {
   "codemirror_mode": {
    "name": "ipython",
    "version": 3
   },
   "file_extension": ".py",
   "mimetype": "text/x-python",
   "name": "python",
   "nbconvert_exporter": "python",
   "pygments_lexer": "ipython3",
   "version": "3.7.1"
  }
 },
 "nbformat": 4,
 "nbformat_minor": 1
}
